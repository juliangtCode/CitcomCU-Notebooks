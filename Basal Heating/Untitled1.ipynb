{
 "cells": [
  {
   "cell_type": "code",
   "execution_count": 5,
   "metadata": {},
   "outputs": [
    {
     "name": "stdout",
     "output_type": "stream",
     "text": [
      "28132\n"
     ]
    }
   ],
   "source": [
    "from glob import glob\n",
    "from json import load\n",
    "\n",
    "def loc(nb):\n",
    "    cells = load(open(nb))[\"cells\"]\n",
    "    return sum(len(c[\"source\"]) for c in cells)\n",
    "\n",
    "root_folder = 'C:\\\\Users\\\\super\\\\Dropbox\\\\Rice University\\\\GitHub\\\\CitcomCU-Notebooks\\\\Basal Heating'\n",
    "summation = 0\n",
    "for File in glob(root_folder+\"/**/*.ipynb\", recursive=True):\n",
    "    summation += loc(File)\n",
    "\n",
    "print(summation*4)"
   ]
  }
 ],
 "metadata": {
  "kernelspec": {
   "display_name": "Python 3",
   "language": "python",
   "name": "python3"
  },
  "language_info": {
   "codemirror_mode": {
    "name": "ipython",
    "version": 3
   },
   "file_extension": ".py",
   "mimetype": "text/x-python",
   "name": "python",
   "nbconvert_exporter": "python",
   "pygments_lexer": "ipython3",
   "version": "3.8.5"
  }
 },
 "nbformat": 4,
 "nbformat_minor": 4
}
