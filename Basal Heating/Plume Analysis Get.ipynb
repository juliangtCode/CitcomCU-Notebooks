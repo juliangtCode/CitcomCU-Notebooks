{
 "cells": [
  {
   "cell_type": "markdown",
   "metadata": {},
   "source": [
    "# Plume Analysis"
   ]
  },
  {
   "cell_type": "code",
   "execution_count": 1,
   "metadata": {},
   "outputs": [],
   "source": [
    "%matplotlib inline\n",
    "%reset -f\n",
    "import fnmatch\n",
    "import scipy.optimize as sp\n",
    "import numpy as np\n",
    "import matplotlib.pyplot as plt\n",
    "import pandas as pd\n",
    "import os \n",
    "import glob\n",
    "from IPython.display import set_matplotlib_formats\n",
    "from scipy.optimize import curve_fit\n",
    "import re\n",
    "import datetime as dt \n",
    "import scipy.signal\n",
    "\n",
    "# %config InlineBackend.figure_formats = ['svg']\n",
    "plt.rcParams['savefig.dpi'] = 350\n",
    "plt.rcParams['figure.figsize'] = [3, 3]\n",
    "plt.rcParams['lines.linewidth'] = 1.5\n",
    "plt.rcParams['lines.markersize'] = 1.\n",
    "plt.rcParams['figure.dpi'] = 100"
   ]
  },
  {
   "cell_type": "code",
   "execution_count": 45,
   "metadata": {},
   "outputs": [],
   "source": [
    "def plume_analysis_new(df):\n",
    "    data_Y=df['Points:1'].values; data_Z=df['Points:2'].values #not height\n",
    "    dim=int(np.sqrt(len(df['temperature'])))\n",
    "    T_blocks = np.reshape(df['temperature'].to_numpy(),(dim,dim))\n",
    "    U_blocks = np.reshape(df['velocity:0'].to_numpy(),(dim,dim))\n",
    " \n",
    "    max_temp=np.max(T_blocks); avg_temp=np.mean(T_blocks); thd_temp=avg_temp+0.2*(max_temp-avg_temp)\n",
    "\n",
    "    P_blocks=np.zeros((256,256)) #Location of plumes. 1 = plume, 0 = no plume\n",
    "    T_p_blocks=np.zeros((256,256)) #Only plume temperature. 1 = plume, 0 = no plume\n",
    "\n",
    "    da=(data_Y[1]-data_Y[0])**2 #area\n",
    "\n",
    "    pmf=0; phf=0; plume_temp=[]; plume_cells=0; \n",
    "\n",
    "    for i in range(dim-1):\n",
    "        for j in range(dim-1):\n",
    "            if (T_blocks[i,j]>=thd_temp) and (U_blocks[i,j]>0):\n",
    "                plume_cells+=1\n",
    "                plume_temp.append(T_blocks[i,j])\n",
    "                P_blocks[i,j]=1\n",
    "                T_p_blocks[i,j]=T_blocks[i,j]\n",
    "                pmf+=U_blocks[i,j]*da\n",
    "                phf+=U_blocks[i,j]*(T_blocks[i,j]-avg_temp)*da\n",
    "\n",
    "    plume_temp_2=np.sum(plume_temp)/plume_cells\n",
    "    dT = plume_temp_2-avg_temp\n",
    "    return phf, dT"
   ]
  },
  {
   "cell_type": "code",
   "execution_count": 61,
   "metadata": {
    "scrolled": false
   },
   "outputs": [
    {
     "data": {
      "text/html": [
       "<div>\n",
       "<style scoped>\n",
       "    .dataframe tbody tr th:only-of-type {\n",
       "        vertical-align: middle;\n",
       "    }\n",
       "\n",
       "    .dataframe tbody tr th {\n",
       "        vertical-align: top;\n",
       "    }\n",
       "\n",
       "    .dataframe thead th {\n",
       "        text-align: right;\n",
       "    }\n",
       "</style>\n",
       "<table border=\"1\" class=\"dataframe\">\n",
       "  <thead>\n",
       "    <tr style=\"text-align: right;\">\n",
       "      <th></th>\n",
       "      <th>Ra</th>\n",
       "      <th>Z</th>\n",
       "      <th>Q_p</th>\n",
       "      <th>dT_p</th>\n",
       "    </tr>\n",
       "  </thead>\n",
       "  <tbody>\n",
       "    <tr>\n",
       "      <th>0</th>\n",
       "      <td>1000000000</td>\n",
       "      <td>0.05</td>\n",
       "      <td>120.712508</td>\n",
       "      <td>0.221912</td>\n",
       "    </tr>\n",
       "    <tr>\n",
       "      <th>1</th>\n",
       "      <td>1000000000</td>\n",
       "      <td>0.1</td>\n",
       "      <td>122.06375</td>\n",
       "      <td>0.212311</td>\n",
       "    </tr>\n",
       "    <tr>\n",
       "      <th>2</th>\n",
       "      <td>1000000000</td>\n",
       "      <td>0.15</td>\n",
       "      <td>106.783092</td>\n",
       "      <td>0.197352</td>\n",
       "    </tr>\n",
       "    <tr>\n",
       "      <th>3</th>\n",
       "      <td>1000000000</td>\n",
       "      <td>0.2</td>\n",
       "      <td>93.694516</td>\n",
       "      <td>0.183441</td>\n",
       "    </tr>\n",
       "    <tr>\n",
       "      <th>4</th>\n",
       "      <td>1000000000</td>\n",
       "      <td>0.25</td>\n",
       "      <td>85.627401</td>\n",
       "      <td>0.186465</td>\n",
       "    </tr>\n",
       "    <tr>\n",
       "      <th>...</th>\n",
       "      <td>...</td>\n",
       "      <td>...</td>\n",
       "      <td>...</td>\n",
       "      <td>...</td>\n",
       "    </tr>\n",
       "    <tr>\n",
       "      <th>59</th>\n",
       "      <td>1000000000</td>\n",
       "      <td>0.975</td>\n",
       "      <td>47.480934</td>\n",
       "      <td>0.097453</td>\n",
       "    </tr>\n",
       "    <tr>\n",
       "      <th>60</th>\n",
       "      <td>1000000000</td>\n",
       "      <td>0.98</td>\n",
       "      <td>45.02863</td>\n",
       "      <td>0.088538</td>\n",
       "    </tr>\n",
       "    <tr>\n",
       "      <th>61</th>\n",
       "      <td>1000000000</td>\n",
       "      <td>0.985</td>\n",
       "      <td>40.322283</td>\n",
       "      <td>0.08822</td>\n",
       "    </tr>\n",
       "    <tr>\n",
       "      <th>62</th>\n",
       "      <td>1000000000</td>\n",
       "      <td>0.99</td>\n",
       "      <td>33.842167</td>\n",
       "      <td>0.089523</td>\n",
       "    </tr>\n",
       "    <tr>\n",
       "      <th>63</th>\n",
       "      <td>1000000000</td>\n",
       "      <td>0.995</td>\n",
       "      <td>44.109658</td>\n",
       "      <td>0.108595</td>\n",
       "    </tr>\n",
       "  </tbody>\n",
       "</table>\n",
       "<p>64 rows × 4 columns</p>\n",
       "</div>"
      ],
      "text/plain": [
       "            Ra      Z         Q_p      dT_p\n",
       "0   1000000000   0.05  120.712508  0.221912\n",
       "1   1000000000    0.1   122.06375  0.212311\n",
       "2   1000000000   0.15  106.783092  0.197352\n",
       "3   1000000000    0.2   93.694516  0.183441\n",
       "4   1000000000   0.25   85.627401  0.186465\n",
       "..         ...    ...         ...       ...\n",
       "59  1000000000  0.975   47.480934  0.097453\n",
       "60  1000000000   0.98    45.02863  0.088538\n",
       "61  1000000000  0.985   40.322283   0.08822\n",
       "62  1000000000   0.99   33.842167  0.089523\n",
       "63  1000000000  0.995   44.109658  0.108595\n",
       "\n",
       "[64 rows x 4 columns]"
      ]
     },
     "execution_count": 61,
     "metadata": {},
     "output_type": "execute_result"
    }
   ],
   "source": [
    "ra_path = '1e9'; plume_path = '\\\\Plume Data'\n",
    "main_path = 'C:\\\\Users\\\\super\\\\Dropbox\\\\Rice University\\\\501\\\\BL_Interactions\\\\'\n",
    "\n",
    "fname = os.path.join(main_path+ra_path+plume_path,'[!m]*.csv')\n",
    "fileL = glob.glob(fname) #list of files\n",
    "temp = []\n",
    "for file in fileL:\n",
    "    a = fileL.index(file)\n",
    "    b = pd.read_csv(file)\n",
    "    b.rename(columns={0:a}, inplace=True)\n",
    "    temp.append(b)\n",
    "\n",
    "Data = pd.concat(temp, axis=0, join=\"inner\",ignore_index=True)\n",
    "\n",
    "lenZ = len(fileL)\n",
    "\n",
    "zUnique = Data['Points:0'].unique()\n",
    "\n",
    "data = [[] for i in range(lenZ)] #empty nested list\n",
    "\n",
    "for i in range(lenZ):\n",
    "    data[i] = Data.loc[Data['Points:0'] == zUnique[i]]\n",
    "    data[i] = data[i].reset_index(drop=True)\n",
    "    \n",
    "plumeData = pd.DataFrame(columns=['Ra', 'Z', 'Q_p', 'dT_p'],\n",
    "                  index=range(0, lenZ))\n",
    "\n",
    "plumeData['Ra'] = int(float(ra_path))\n",
    "\n",
    "for i in range(lenZ):\n",
    "    pa = plume_analysis_new(data[i])\n",
    "    plumeData.at[i, 'Z'] = zUnique[i]\n",
    "    plumeData.at[i, 'Q_p'] = pa[0]\n",
    "    plumeData.at[i, 'dT_p'] = pa[1]\n",
    "\n",
    "plumeData = plumeData.sort_values(by=['Z'])\n",
    "plumeData = plumeData.reset_index(drop=True) \n",
    "plumeData"
   ]
  },
  {
   "cell_type": "markdown",
   "metadata": {},
   "source": [
    "Get the plume temperatures, mean and standard deviation.\n",
    "Plot Ra in x, mean plume temp in y with std dev error bars or with  min and max\n",
    "\n",
    "Try to dimensionalize them"
   ]
  },
  {
   "cell_type": "code",
   "execution_count": 62,
   "metadata": {},
   "outputs": [],
   "source": [
    "save_path = 'C:\\\\Users\\\\super\\\\Dropbox\\\\Rice University\\\\501\\\\BL_Interactions_Data\\\\'\n",
    "Data=pd.read_csv(save_path+'data_short.csv')\n",
    "data_select = Data.loc[Data['Ra']==plumeData.at[0, 'Ra']]\n",
    "data_select = data_select.reset_index(drop=True)\n",
    "nut = data_select.at[0, 'NuT']"
   ]
  },
  {
   "cell_type": "code",
   "execution_count": 63,
   "metadata": {},
   "outputs": [
    {
     "data": {
      "text/plain": [
       "Text(0.5, 0, 'Plume Heat Flux')"
      ]
     },
     "execution_count": 63,
     "metadata": {},
     "output_type": "execute_result"
    },
    {
     "data": {
      "image/png": "[encoded data removed]",
      "text/plain": [
       "<Figure size 600x300 with 2 Axes>"
      ]
     },
     "metadata": {},
     "output_type": "display_data"
    }
   ],
   "source": [
    "plt.figure(figsize=(6,3))\n",
    "\n",
    "plt.subplot(1, 2, 1)\n",
    "plt.plot(plumeData['dT_p'],plumeData['Z'])\n",
    "plt.xlabel(u'ΔT Plume')\n",
    "plt.ylabel('Depth')\n",
    "\n",
    "plt.subplot(1, 2, 2)\n",
    "plt.plot(plumeData['Q_p']/nut,plumeData['Z'])\n",
    "plt.xlabel('Plume Heat Flux')"
   ]
  },
  {
   "cell_type": "code",
   "execution_count": null,
   "metadata": {},
   "outputs": [],
   "source": [
    "np.savetxt(main_path+ra_path+'\\\\Plume Profiles\\\\Depth.txt',plumeData['Z'])\n",
    "np.savetxt(main_path+ra_path+'\\\\Plume Profiles\\\\Delta_T_Plume.txt',plumeData['dT_p'])\n",
    "np.savetxt(main_path+ra_path+'\\\\Plume Profiles\\\\Plume_Heat_Flux.txt',plumeData['Q_p']/nut)"
   ]
  },
  {
   "cell_type": "code",
   "execution_count": 65,
   "metadata": {},
   "outputs": [
    {
     "data": {
      "image/png": "[encoded data removed]",
      "text/plain": [
       "<Figure size 600x300 with 2 Axes>"
      ]
     },
     "metadata": {},
     "output_type": "display_data"
    }
   ],
   "source": [
    "plt.figure(figsize=(6,3))\n",
    "\n",
    "plt.subplot(1, 2, 1)\n",
    "plt.plot(plumeData['dT_p'],plumeData['Z'],'.')\n",
    "plt.xlabel(u'ΔT Plume')\n",
    "plt.ylabel('Depth')\n",
    "\n",
    "plt.subplot(1, 2, 2)\n",
    "plt.plot(plumeData['Q_p'],plumeData['Z'],'.')\n",
    "plt.xlabel('Plume Heat Flux');"
   ]
  }
 ],
 "metadata": {
  "kernelspec": {
   "display_name": "Python 3 (ipykernel)",
   "language": "python",
   "name": "python3"
  },
  "language_info": {
   "codemirror_mode": {
    "name": "ipython",
    "version": 3
   },
   "file_extension": ".py",
   "mimetype": "text/x-python",
   "name": "python",
   "nbconvert_exporter": "python",
   "pygments_lexer": "ipython3",
   "version": "3.8.16"
  }
 },
 "nbformat": 4,
 "nbformat_minor": 4
}
