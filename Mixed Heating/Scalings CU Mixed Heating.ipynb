{
 "cells": [
  {
   "cell_type": "markdown",
   "metadata": {},
   "source": [
    "# Scalings CU Mixed Heating"
   ]
  },
  {
   "cell_type": "code",
   "execution_count": 1,
   "metadata": {},
   "outputs": [],
   "source": [
    "%reset -f\n",
    "%matplotlib inline\n",
    "import numpy as np\n",
    "import matplotlib.pyplot as plt\n",
    "import pandas as pd\n",
    "import os \n",
    "import glob\n",
    "from IPython.display import set_matplotlib_formats\n",
    "from scipy.optimize import curve_fit\n",
    "import re\n",
    "import matplotlib.ticker as mticker\n",
    "\n",
    "%config InlineBackend.figure_formats = ['svg']"
   ]
  },
  {
   "cell_type": "code",
   "execution_count": 2,
   "metadata": {},
   "outputs": [],
   "source": [
    "plt.rcParams['savefig.dpi'] = 350\n",
    "plt.rcParams['figure.figsize'] = [5, 5]\n",
    "plt.rcParams['font.size'] = 14\n",
    "plt.rcParams['lines.linewidth'] = 0.7\n",
    "plt.rcParams['lines.markersize'] = 5."
   ]
  },
  {
   "cell_type": "code",
   "execution_count": 3,
   "metadata": {},
   "outputs": [],
   "source": [
    "main_path = 'C:\\\\Users\\\\super\\\\Dropbox\\\\Rice University\\\\501\\\\BL_Interactions_MH\\\\'\n",
    "save_path = 'C:\\\\Users\\\\super\\\\Dropbox\\\\Rice University\\\\501\\\\BL_Interactions_Data\\\\'\n",
    "importData = pd.read_csv(save_path+'\\\\data_MH.csv')"
   ]
  },
  {
   "cell_type": "code",
   "execution_count": 4,
   "metadata": {},
   "outputs": [],
   "source": [
    "def tFunction(x,a,b):\n",
    "    return x[0]**(3/4)*x[1]**(-1/4)*a + b\n",
    "\n",
    "# def nuFunction(x,m,a,b):\n",
    "#     return a*(x[1]-1000)**b + m*x[0]\n",
    "\n",
    "def nuFunction(x,a,b):\n",
    "    return a*(x[1]-1000)**b + 0.5*x[0]\n",
    "\n",
    "def velFunction(x,nuF,tF):\n",
    "    s = ((nuFunction(x,nuF[0],nuF[1],nuF[2]))/(tFunction(x,tF[0],tF[1])))**2\n",
    "    return s\n",
    "\n",
    "def getRsquared(popt,ydata,xdata,f):\n",
    "    residuals = ydata- f(xdata, *popt)\n",
    "    ss_res = np.sum(residuals**2)\n",
    "    ss_tot = np.sum((ydata-np.mean(ydata))**2)\n",
    "    r_squared = 1 - (ss_res / ss_tot)\n",
    "    return r_squared"
   ]
  },
  {
   "cell_type": "code",
   "execution_count": 5,
   "metadata": {},
   "outputs": [],
   "source": [
    "data_Ra = importData['Ra'].to_numpy()\n",
    "data_H = importData['H'].to_numpy()\n",
    "data_Ti = importData['Ti'].to_numpy()\n",
    "data_nuT = importData['NuT'].to_numpy()\n",
    "data_nub = importData['NuB'].to_numpy()\n",
    "data_both = [data_H,data_Ra]\n",
    "data_nu = np.vstack((data_nuT,data_nub+data_H)).flatten()-1\n",
    "data_nu_both = np.hstack((data_both,data_both))"
   ]
  },
  {
   "cell_type": "code",
   "execution_count": 6,
   "metadata": {},
   "outputs": [
    {
     "name": "stdout",
     "output_type": "stream",
     "text": [
      "[1.43720404 0.52055895]\n"
     ]
    },
    {
     "data": {
      "text/plain": [
       "0.9962467990260567"
      ]
     },
     "execution_count": 6,
     "metadata": {},
     "output_type": "execute_result"
    }
   ],
   "source": [
    "fitTi,_ = curve_fit(tFunction,data_both,data_Ti)\n",
    "print(fitTi) # m*x + b\n",
    "getRsquared(fitTi,data_Ti,data_both,tFunction)"
   ]
  },
  {
   "cell_type": "code",
   "execution_count": 7,
   "metadata": {
    "scrolled": true
   },
   "outputs": [
    {
     "name": "stdout",
     "output_type": "stream",
     "text": [
      "[0.41042747 0.27675347]\n"
     ]
    },
    {
     "data": {
      "text/plain": [
       "0.995104395383685"
      ]
     },
     "execution_count": 7,
     "metadata": {},
     "output_type": "execute_result"
    }
   ],
   "source": [
    "fitNu, _ = curve_fit(nuFunction,data_nu_both,data_nu)\n",
    "print(fitNu) # m*H + a*(Ra-1000)^b\n",
    "getRsquared(fitNu,data_nu,data_nu_both,nuFunction)"
   ]
  },
  {
   "cell_type": "code",
   "execution_count": 8,
   "metadata": {},
   "outputs": [],
   "source": [
    "file = open(save_path+\"\\\\MH_interiorTempScaling_Y(0)_&_slope.txt\", \"w\") #y-intercept first, then slope\n",
    "str = repr(fitTi[1])\n",
    "file.write(str+'\\n')\n",
    "str = repr(fitTi[0])\n",
    "file.write(str)\n",
    "file.close()\n",
    "\n",
    "# file = open(save_path+\"\\\\MH_nusseltScaling_beta_slopeH_slopeRa.txt\", \"w\") #beta exponent, then slope of H, then slope of Ra\n",
    "# str = repr(fitNu[2])\n",
    "# file.write(str+'\\n')\n",
    "# str = repr(fitNu[0])\n",
    "# file.write(str+'\\n')\n",
    "# str = repr(fitNu[1])\n",
    "# file.write(str)\n",
    "# file.close()\n",
    "\n",
    "file = open(save_path+\"\\\\MH_nusseltScaling_beta_slopeH_slopeRa.txt\", \"w\") #beta exponent, then slope of Ra\n",
    "str = repr(fitNu[1])\n",
    "file.write(str+'\\n')\n",
    "str = repr(fitNu[0])\n",
    "file.write(str+'\\n')\n",
    "file.close()"
   ]
  }
 ],
 "metadata": {
  "kernelspec": {
   "display_name": "Python 3 (ipykernel)",
   "language": "python",
   "name": "python3"
  },
  "language_info": {
   "codemirror_mode": {
    "name": "ipython",
    "version": 3
   },
   "file_extension": ".py",
   "mimetype": "text/x-python",
   "name": "python",
   "nbconvert_exporter": "python",
   "pygments_lexer": "ipython3",
   "version": "3.8.16"
  }
 },
 "nbformat": 4,
 "nbformat_minor": 4
}
