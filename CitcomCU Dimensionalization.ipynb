{
 "cells": [
  {
   "cell_type": "markdown",
   "id": "b7246a00",
   "metadata": {},
   "source": [
    "# CitcomCU Dimensionalization"
   ]
  },
  {
   "cell_type": "code",
   "execution_count": 29,
   "id": "0b21ec17",
   "metadata": {},
   "outputs": [],
   "source": [
    "%reset -f\n",
    "%matplotlib inline\n",
    "import numpy as np\n",
    "import matplotlib.pyplot as plt\n",
    "import pandas as pd\n",
    "import os \n",
    "import glob\n",
    "from IPython.display import set_matplotlib_formats\n",
    "from scipy.optimize import curve_fit\n",
    "import re\n",
    "import matplotlib.ticker as mticker\n",
    "import math\n",
    "import matplotlib\n",
    "\n",
    "%config InlineBackend.figure_formats = ['svg']"
   ]
  },
  {
   "cell_type": "code",
   "execution_count": 30,
   "id": "70308ac1",
   "metadata": {},
   "outputs": [],
   "source": [
    "# plt.rcParams['figure.dpi'] = 300\n",
    "plt.rcParams['savefig.dpi'] = 350\n",
    "plt.rcParams['figure.figsize'] = [5, 5]\n",
    "plt.rcParams['font.size'] = 14\n",
    "plt.rcParams['lines.linewidth'] = 0.7\n",
    "plt.rcParams['lines.markersize'] = 7.\n",
    "plt.rcParams['lines.markeredgewidth'] = 0.7"
   ]
  },
  {
   "cell_type": "code",
   "execution_count": 31,
   "id": "81848462",
   "metadata": {},
   "outputs": [],
   "source": [
    "R0 = 2870000.0; # m\n",
    "rho = 3300 # kg/m^3\n",
    "g = 9.8 # m/s^2\n",
    "alpha = 5e-5 # 1/K\n",
    "eta = 10**20 # Pa s\n",
    "cp = 1250 # J/(kg K)\n",
    "kappa = 1e-6; # m^2/s\n",
    "k = kappa*rho*cp; # W/m\n",
    "refT = 3800; # K\n",
    "## what is the reference Temperature for????"
   ]
  },
  {
   "cell_type": "code",
   "execution_count": 34,
   "id": "2b1818c6",
   "metadata": {},
   "outputs": [],
   "source": [
    "def velo(u):\n",
    "#Dimenzionalize velocity\n",
    "#   Converts from non-dimensional to cm/yr velocity\n",
    "    conversion = 24*3600*365 # seconds to year\n",
    "    v = kappa*u*conversion*100/R0;\n",
    "    return v"
   ]
  },
  {
   "cell_type": "code",
   "execution_count": 44,
   "id": "428e5868",
   "metadata": {},
   "outputs": [
    {
     "data": {
      "text/plain": [
       "10.394851671637102"
      ]
     },
     "execution_count": 44,
     "metadata": {},
     "output_type": "execute_result"
    }
   ],
   "source": [
    "velo(21000)\n",
    "#in cm/yr"
   ]
  },
  {
   "cell_type": "code",
   "execution_count": 36,
   "id": "87acb3dd",
   "metadata": {},
   "outputs": [],
   "source": [
    "def deltaT(Ra):\n",
    "    # needs Ra_input, not true Ra\n",
    "    tt = (Ra*eta*kappa)/(rho*g*alpha*R0**3)\n",
    "    return tt"
   ]
  },
  {
   "cell_type": "code",
   "execution_count": 37,
   "id": "6c415e6e",
   "metadata": {},
   "outputs": [
    {
     "data": {
      "text/plain": [
       "3682.882690756062"
      ]
     },
     "execution_count": 37,
     "metadata": {},
     "output_type": "execute_result"
    }
   ],
   "source": [
    "deltaT(1e9)\n",
    "# Ra_input for Earth is ~10^9"
   ]
  },
  {
   "cell_type": "code",
   "execution_count": 38,
   "id": "79be94f5",
   "metadata": {},
   "outputs": [],
   "source": [
    "def heatFlux(Ra,Nu):\n",
    "    q = 1000*k*Nu*deltaT(Ra)/d\n",
    "    return q # in mW/m^2"
   ]
  },
  {
   "cell_type": "code",
   "execution_count": 39,
   "id": "3bb78f26",
   "metadata": {},
   "outputs": [
    {
     "data": {
      "text/plain": [
       "78.68172267001823"
      ]
     },
     "execution_count": 39,
     "metadata": {},
     "output_type": "execute_result"
    }
   ],
   "source": [
    "heatFlux(1e9,14)\n",
    "# in mW/m^2\n",
    "#close to Earth values"
   ]
  }
 ],
 "metadata": {
  "kernelspec": {
   "display_name": "Python 3 (ipykernel)",
   "language": "python",
   "name": "python3"
  },
  "language_info": {
   "codemirror_mode": {
    "name": "ipython",
    "version": 3
   },
   "file_extension": ".py",
   "mimetype": "text/x-python",
   "name": "python",
   "nbconvert_exporter": "python",
   "pygments_lexer": "ipython3",
   "version": "3.8.16"
  }
 },
 "nbformat": 4,
 "nbformat_minor": 5
}
