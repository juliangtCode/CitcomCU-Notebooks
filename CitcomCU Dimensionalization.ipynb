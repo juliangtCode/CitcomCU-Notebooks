{
 "cells": [
  {
   "cell_type": "markdown",
   "metadata": {},
   "source": [
    "# CitcomCU Dimensionalization"
   ]
  },
  {
   "cell_type": "code",
   "execution_count": 1,
   "metadata": {},
   "outputs": [],
   "source": [
    "%reset -f\n",
    "%matplotlib inline\n",
    "import numpy as np\n",
    "import matplotlib.pyplot as plt\n",
    "import pandas as pd\n",
    "import os \n",
    "import glob\n",
    "from IPython.display import set_matplotlib_formats\n",
    "from scipy.optimize import curve_fit\n",
    "import re\n",
    "import matplotlib.ticker as mticker\n",
    "import math\n",
    "import matplotlib\n",
    "\n",
    "%config InlineBackend.figure_formats = ['svg']"
   ]
  },
  {
   "cell_type": "code",
   "execution_count": 2,
   "metadata": {},
   "outputs": [],
   "source": [
    "# plt.rcParams['figure.dpi'] = 300\n",
    "plt.rcParams['savefig.dpi'] = 350\n",
    "plt.rcParams['figure.figsize'] = [5, 5]\n",
    "plt.rcParams['font.size'] = 14\n",
    "plt.rcParams['lines.linewidth'] = 0.7\n",
    "plt.rcParams['lines.markersize'] = 7.\n",
    "plt.rcParams['lines.markeredgewidth'] = 0.7"
   ]
  },
  {
   "cell_type": "code",
   "execution_count": 3,
   "metadata": {},
   "outputs": [],
   "source": [
    "R0 = 2870000.0; # m\n",
    "rho = 3300 # kg/m^3\n",
    "g = 9.8 # m/s^2\n",
    "alpha = 5e-5 # 1/K\n",
    "eta = 10**20 # Pa s\n",
    "cp = 1250 # J/(kg K)\n",
    "kappa = 1e-6; # m^2/s\n",
    "k = kappa*rho*cp; # W/m\n",
    "refT = 3800; # K\n",
    "## what is the reference Temperature for????"
   ]
  },
  {
   "cell_type": "code",
   "execution_count": 4,
   "metadata": {},
   "outputs": [],
   "source": [
    "def velo(u):\n",
    "#Dimenzionalize velocity\n",
    "#   Converts from non-dimensional to cm/yr velocity\n",
    "    conversion = 24*3600*365 # seconds to year\n",
    "    v = kappa*u*conversion*100/R0;\n",
    "    return v"
   ]
  },
  {
   "cell_type": "code",
   "execution_count": 5,
   "metadata": {},
   "outputs": [
    {
     "data": {
      "text/plain": [
       "23.075121951219508"
      ]
     },
     "execution_count": 5,
     "metadata": {},
     "output_type": "execute_result"
    }
   ],
   "source": [
    "velo(21000)\n",
    "#in cm/yr"
   ]
  },
  {
   "cell_type": "code",
   "execution_count": 6,
   "metadata": {},
   "outputs": [],
   "source": [
    "def deltaT(Ra):\n",
    "    tt = (Ra*eta*kappa)/(rho*g*alpha*R0**3)\n",
    "    return tt"
   ]
  },
  {
   "cell_type": "code",
   "execution_count": 7,
   "metadata": {},
   "outputs": [
    {
     "data": {
      "text/plain": [
       "2616.039456074592"
      ]
     },
     "execution_count": 7,
     "metadata": {},
     "output_type": "execute_result"
    }
   ],
   "source": [
    "deltaT(1e9)"
   ]
  },
  {
   "cell_type": "code",
   "execution_count": 10,
   "metadata": {},
   "outputs": [],
   "source": [
    "def heatFlux(Ra,Nu):\n",
    "    q = 1000*k*Nu*deltaT(Ra)/R0\n",
    "    return q # in mW/m^2"
   ]
  },
  {
   "cell_type": "code",
   "execution_count": 11,
   "metadata": {},
   "outputs": [
    {
     "data": {
      "text/plain": [
       "52.63981832345216"
      ]
     },
     "execution_count": 11,
     "metadata": {},
     "output_type": "execute_result"
    }
   ],
   "source": [
    "heatFlux(1e9,14)\n",
    "# in mW/m^2\n",
    "#close to Earth values"
   ]
  }
 ],
 "metadata": {
  "kernelspec": {
   "display_name": "Python 3",
   "language": "python",
   "name": "python3"
  },
  "language_info": {
   "codemirror_mode": {
    "name": "ipython",
    "version": 3
   },
   "file_extension": ".py",
   "mimetype": "text/x-python",
   "name": "python",
   "nbconvert_exporter": "python",
   "pygments_lexer": "ipython3",
   "version": "3.8.5"
  }
 },
 "nbformat": 4,
 "nbformat_minor": 5
}
